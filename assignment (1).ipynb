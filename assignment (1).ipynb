{
 "cells": [
  {
   "cell_type": "code",
   "execution_count": 1,
   "id": "4ce1731b-5e15-40d9-be2b-7388bfe390b9",
   "metadata": {},
   "outputs": [],
   "source": [
    "# Q1. What is an Exception in python? Write the difference between Exceptions and syntax errors?\n"
   ]
  },
  {
   "cell_type": "code",
   "execution_count": 2,
   "id": "a019de93-48b5-4cb1-96d2-e08ac74c331a",
   "metadata": {},
   "outputs": [],
   "source": [
    "# A1.\n",
    "# An error is an issue in a program that prevents the program from completing its task. In comparison, an exception is a condition that interrupts the normal flow of the program. \n"
   ]
  },
  {
   "cell_type": "code",
   "execution_count": 3,
   "id": "c5424159-7689-4dd3-95c6-878ca72fc9a5",
   "metadata": {},
   "outputs": [],
   "source": [
    "# Q2. What happen when an exception is not handled? explain with an example."
   ]
  },
  {
   "cell_type": "code",
   "execution_count": 4,
   "id": "f5a46e63-2a88-4be0-a56c-10aec63a9d33",
   "metadata": {},
   "outputs": [
    {
     "ename": "ZeroDivisionError",
     "evalue": "division by zero",
     "output_type": "error",
     "traceback": [
      "\u001b[0;31m---------------------------------------------------------------------------\u001b[0m",
      "\u001b[0;31mZeroDivisionError\u001b[0m                         Traceback (most recent call last)",
      "Cell \u001b[0;32mIn[4], line 3\u001b[0m\n\u001b[1;32m      1\u001b[0m \u001b[38;5;66;03m# A2.\u001b[39;00m\n\u001b[0;32m----> 3\u001b[0m a \u001b[38;5;241m=\u001b[39m \u001b[38;5;241;43m10\u001b[39;49m\u001b[38;5;241;43m/\u001b[39;49m\u001b[38;5;241;43m0\u001b[39;49m\n\u001b[1;32m      4\u001b[0m \u001b[38;5;28mprint\u001b[39m(a)\n",
      "\u001b[0;31mZeroDivisionError\u001b[0m: division by zero"
     ]
    }
   ],
   "source": [
    "# A2.\n",
    "\n",
    "a = 10/0\n",
    "print(a)\n"
   ]
  },
  {
   "cell_type": "code",
   "execution_count": null,
   "id": "ee57ed5e-76a6-4706-9bb9-3ef11da02ecb",
   "metadata": {},
   "outputs": [],
   "source": [
    "# Q3. Which Python statements are used to catch and handle exceptions?explain with an example."
   ]
  },
  {
   "cell_type": "code",
   "execution_count": null,
   "id": "dd1c84ec-c7e5-49ed-ab31-56300da29a18",
   "metadata": {},
   "outputs": [],
   "source": [
    "# A3.\n",
    "try:\n",
    "    'l'.test\n",
    "    print(l)\n",
    "except AttributeError as e:\n",
    "    print(e)"
   ]
  },
  {
   "cell_type": "code",
   "execution_count": null,
   "id": "b8be450c-64a8-4b46-bc89-d91ee370b060",
   "metadata": {},
   "outputs": [],
   "source": [
    "# Q4. Explain with an example:"
   ]
  },
  {
   "cell_type": "code",
   "execution_count": 6,
   "id": "b6941a13-4e42-4666-b508-3d0d928767a2",
   "metadata": {},
   "outputs": [
    {
     "name": "stdout",
     "output_type": "stream",
     "text": [
      "string index out of range\n"
     ]
    }
   ],
   "source": [
    "# A4.\n",
    "try:\n",
    "    l = \"NADIM\"\n",
    "    print(l[8])\n",
    "except IndexError as e:\n",
    "    print(e)"
   ]
  },
  {
   "cell_type": "code",
   "execution_count": 7,
   "id": "e197913d-0e57-47b6-8eb2-2a3c80d7a659",
   "metadata": {},
   "outputs": [
    {
     "name": "stdout",
     "output_type": "stream",
     "text": [
      "name 'a' is not defined\n",
      "It is always executed\n"
     ]
    }
   ],
   "source": [
    "try:\n",
    "    l = \"NADIM\"\n",
    "    print(a)\n",
    "except NameError as e:\n",
    "    print(e)\n",
    "finally:\n",
    "    print(\"It is always executed\")"
   ]
  },
  {
   "cell_type": "code",
   "execution_count": 8,
   "id": "90e2da29-2c90-4508-b8c5-86d9beb18398",
   "metadata": {},
   "outputs": [
    {
     "name": "stdout",
     "output_type": "stream",
     "text": [
      "Error is executed\n"
     ]
    }
   ],
   "source": [
    "class error(Exception):\n",
    "    pass\n",
    "\n",
    "try:\n",
    "    raise error(\"Error is executed\")\n",
    "except Exception as e:\n",
    "    print(e)"
   ]
  },
  {
   "cell_type": "code",
   "execution_count": 11,
   "id": "fb141b7d-1fe9-4215-aaac-94dc6b802581",
   "metadata": {},
   "outputs": [
    {
     "name": "stdout",
     "output_type": "stream",
     "text": [
      "This is my custom exception\n"
     ]
    }
   ],
   "source": [
    "# Q5.\n",
    "# A5.\n",
    "class CustomException(Exception):\n",
    "        pass\n",
    "\n",
    "\n",
    "try:\n",
    "    raise CustomException('This is my custom exception')\n",
    "except CustomException as e:\n",
    "    print(e)"
   ]
  },
  {
   "cell_type": "code",
   "execution_count": null,
   "id": "e79353c4-48b4-42dc-8f4b-b3e801d427eb",
   "metadata": {},
   "outputs": [],
   "source": []
  },
  {
   "cell_type": "code",
   "execution_count": null,
   "id": "6636d269-2cbd-442e-999c-095f5f164533",
   "metadata": {},
   "outputs": [
    {
     "name": "stdin",
     "output_type": "stream",
     "text": [
      "Enter a number:  12\n"
     ]
    },
    {
     "name": "stdout",
     "output_type": "stream",
     "text": [
      "Exception occurred: Invalid Age\n"
     ]
    }
   ],
   "source": [
    "# Q6.\n",
    "# A6.\n",
    "\n",
    "class InvalidAgeException(Exception):\n",
    "    pass\n",
    "\n",
    "\n",
    "number = 18\n",
    "\n",
    "try:\n",
    "    input_num = int(input(\"Enter a number: \"))\n",
    "    if input_num < number:\n",
    "        raise InvalidAgeException\n",
    "    else:\n",
    "        print(\"Eligible to Vote\")\n",
    "        \n",
    "except InvalidAgeException:\n",
    "    print(\"Exception occurred: Invalid Age\")"
   ]
  },
  {
   "cell_type": "code",
   "execution_count": null,
   "id": "36ffba1c-3508-4820-98b0-ced0c0efc43f",
   "metadata": {},
   "outputs": [],
   "source": []
  }
 ],
 "metadata": {
  "kernelspec": {
   "display_name": "Python 3 (ipykernel)",
   "language": "python",
   "name": "python3"
  },
  "language_info": {
   "codemirror_mode": {
    "name": "ipython",
    "version": 3
   },
   "file_extension": ".py",
   "mimetype": "text/x-python",
   "name": "python",
   "nbconvert_exporter": "python",
   "pygments_lexer": "ipython3",
   "version": "3.10.8"
  }
 },
 "nbformat": 4,
 "nbformat_minor": 5
}
